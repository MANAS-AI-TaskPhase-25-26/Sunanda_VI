{
 "cells": [
  {
   "cell_type": "code",
   "execution_count": 11,
   "id": "2e297bcd-aa09-43db-9837-41041de8ee45",
   "metadata": {},
   "outputs": [
    {
     "name": "stdout",
     "output_type": "stream",
     "text": [
      "Model saved successfully!\n"
     ]
    }
   ],
   "source": [
    "np.savez(\"Closeprice_predicter.npz\", w=w_final, b=b_final, x_mean=x_mean, x_std=x_std)\n",
    "print(\"Model saved successfully!\")"
   ]
  },
  {
   "cell_type": "code",
   "execution_count": 14,
   "id": "0e595fc3-c79a-4100-8335-138c7b8d9aae",
   "metadata": {},
   "outputs": [
    {
     "name": "stdout",
     "output_type": "stream",
     "text": [
      "Predicted close price: 26187.94\n"
     ]
    }
   ],
   "source": [
    "import numpy as np\n",
    "import matplotlib.pyplot as plt\n",
    "import pandas as pd\n",
    "import copy\n",
    "import math\n",
    "import joblib\n",
    "\n",
    "x1 = float(input(\"Enter the open price \"))\n",
    "x2 = float(input(\"Enter the Highest price \"))\n",
    "x3 = float(input(\"Enter the lowest price \"))\n",
    "x4 = float(input(\"Enter the Volume \"))\n",
    "x5 = float(input(\"Enter the Momentum_index \"))\n",
    "x6 = float(input(\"Enter the Market_sentiment \"))\n",
    "x7 = float(input(\"Enter the trend_strength \"))\n",
    "x8 = float(input(\"Enter the oscillator_value \"))\n",
    "x9 = float(input(\"Enter the index \"))\n",
    "x = np.array([[x1, x2, x3, x4, x5, x6, x7, x8, x9]])\n",
    "x_mean = [6.46901227e+01, 6.57267504e+01, 6.37652828e+01, 5.37978288e+06 ,6.47318736e+01, 6.47860497e+01, 6.49259957e+01, 6.47345748e+01, 1.30733305e+05]\n",
    "x_std = [1.39901205e+02, 1.05713571e+02, 1.49123209e+02, 1.24532311e+07, 1.39798991e+02, 1.49723871e+02, 1.13171859e+02, 1.09494916e+02, 7.58861914e+04]\n",
    "\n",
    "x_scaled = (x - x_mean) / x_std\n",
    "\n",
    "data = np.load(\"Closeprice_predicter.npz\", allow_pickle=True)\n",
    "w_final = data['w']\n",
    "b_final = data['b'].item()        # b is a scalar\n",
    "x_mean = data['x_mean']\n",
    "x_std = data['x_std']\n",
    "\n",
    "print(\"Model loaded successfully!\")\n",
    "\n",
    "y_pred = np.dot(x_scaled, w_final) + b_final\n",
    "print(f\" The predicted cost price is : {y_pred}\")"
   ]
  },
  {
   "cell_type": "code",
   "execution_count": null,
   "id": "eb0be16c-fee6-453d-a14a-e9551417b405",
   "metadata": {},
   "outputs": [],
   "source": []
  }
 ],
 "metadata": {
  "kernelspec": {
   "display_name": "Python 3 (ipykernel)",
   "language": "python",
   "name": "python3"
  },
  "language_info": {
   "codemirror_mode": {
    "name": "ipython",
    "version": 3
   },
   "file_extension": ".py",
   "mimetype": "text/x-python",
   "name": "python",
   "nbconvert_exporter": "python",
   "pygments_lexer": "ipython3",
   "version": "3.14.0"
  }
 },
 "nbformat": 4,
 "nbformat_minor": 5
}
